{
  "nbformat": 4,
  "nbformat_minor": 0,
  "metadata": {
    "colab": {
      "provenance": []
    },
    "kernelspec": {
      "name": "python3",
      "display_name": "Python 3"
    },
    "language_info": {
      "name": "python"
    }
  },
  "cells": [
    {
      "cell_type": "markdown",
      "source": [
        "  \n",
        "# **Practical Questions**"
      ],
      "metadata": {
        "id": "cmu9gKTqrRJT"
      }
    },
    {
      "cell_type": "code",
      "execution_count": 2,
      "metadata": {
        "colab": {
          "base_uri": "https://localhost:8080/"
        },
        "id": "gnkytqkzrLjD",
        "outputId": "fa5c213f-86e7-4814-de71-7d30773e3e8b"
      },
      "outputs": [
        {
          "output_type": "stream",
          "name": "stdout",
          "text": [
            "parveen\n"
          ]
        }
      ],
      "source": [
        "# 1. Write a code to create a string with your name and print it?\n",
        "# Answer-\n",
        "name = \"parveen\"\n",
        "print(name)\n"
      ]
    },
    {
      "cell_type": "code",
      "source": [
        "# 2. Write a code to find the length of the string \"Hello World\"?\n",
        "# Answers:-\n",
        "string = \"Hello World\"\n",
        "length = len(string)\n",
        "print(length)\n"
      ],
      "metadata": {
        "colab": {
          "base_uri": "https://localhost:8080/"
        },
        "id": "XaYxEuMjr6CK",
        "outputId": "9c088ee4-a5c0-49d3-e97c-497d9a652164"
      },
      "execution_count": 3,
      "outputs": [
        {
          "output_type": "stream",
          "name": "stdout",
          "text": [
            "11\n"
          ]
        }
      ]
    },
    {
      "cell_type": "code",
      "source": [
        "# 3.Write a code to slice the first 3 characters from the string \"Python Programming\"?\n",
        "# Answers:\n",
        "string = \"Python Programming\"\n",
        "sliced_string = string[:3]\n",
        "print(sliced_string)\n"
      ],
      "metadata": {
        "colab": {
          "base_uri": "https://localhost:8080/"
        },
        "id": "EyNBDcLgsOFS",
        "outputId": "04ae364c-aea4-44b4-ce83-a333c0ea1653"
      },
      "execution_count": 4,
      "outputs": [
        {
          "output_type": "stream",
          "name": "stdout",
          "text": [
            "Pyt\n"
          ]
        }
      ]
    },
    {
      "cell_type": "code",
      "source": [
        "# 4. Write a code to convert the string \"hello\" to uppercase?\n",
        "# Amwers:-\n",
        "string = \"hello\"\n",
        "string_upper = string.upper()\n",
        "print(string_upper)\n"
      ],
      "metadata": {
        "colab": {
          "base_uri": "https://localhost:8080/"
        },
        "id": "mwLSm3cnz3pT",
        "outputId": "07344d4e-a768-4b1a-df4e-f4ded373a635"
      },
      "execution_count": 5,
      "outputs": [
        {
          "output_type": "stream",
          "name": "stdout",
          "text": [
            "HELLO\n"
          ]
        }
      ]
    },
    {
      "cell_type": "code",
      "source": [
        "# 5. Write a code to replace the word \"apple\" with \"orange\" in the string \"I like apple\"?\n",
        "# Answers:\n",
        "string = \"I like apple\"\n",
        "N_string = string.replace(\"apple\", \"orange\")\n",
        "print(N_string)\n"
      ],
      "metadata": {
        "colab": {
          "base_uri": "https://localhost:8080/"
        },
        "id": "CCUitttA0Ivs",
        "outputId": "33366dcb-ffd6-40e4-9133-6b34ae193b74"
      },
      "execution_count": 6,
      "outputs": [
        {
          "output_type": "stream",
          "name": "stdout",
          "text": [
            "I like orange\n"
          ]
        }
      ]
    },
    {
      "cell_type": "code",
      "source": [
        "# 6. Write a code to create a list with numbers 1 to 5 and print it?\n",
        "# Answers:-\n",
        "list = [1, 2, 3, 4, 5]\n",
        "print(list)\n"
      ],
      "metadata": {
        "colab": {
          "base_uri": "https://localhost:8080/"
        },
        "id": "lk7Em9s30jQF",
        "outputId": "0fadf304-b610-4028-88c3-fceed561bfa9"
      },
      "execution_count": 7,
      "outputs": [
        {
          "output_type": "stream",
          "name": "stdout",
          "text": [
            "[1, 2, 3, 4, 5]\n"
          ]
        }
      ]
    },
    {
      "cell_type": "code",
      "source": [
        "# 7. Write a code to append the number 10 to the list [1, 2, 3, 4]?\n",
        "#Answers:\n",
        "list = [1,2,3,4]\n",
        "list.append(10)\n",
        "print(list)\n"
      ],
      "metadata": {
        "colab": {
          "base_uri": "https://localhost:8080/"
        },
        "id": "APMPyspm1V30",
        "outputId": "b9b8ad76-5fa3-4fc6-f743-0bd6f1d2efd0"
      },
      "execution_count": 9,
      "outputs": [
        {
          "output_type": "stream",
          "name": "stdout",
          "text": [
            "[1, 2, 3, 4, 10]\n"
          ]
        }
      ]
    },
    {
      "cell_type": "code",
      "source": [
        "# 8. Write a code to remove the number 3 from the list [1, 2, 3, 4, 5]?\n",
        "# Answers:\n",
        "list = [1,2,3,4,5]\n",
        "list.remove(3)\n",
        "print(list)\n"
      ],
      "metadata": {
        "colab": {
          "base_uri": "https://localhost:8080/"
        },
        "id": "B1bZ5Lsg2pPD",
        "outputId": "f5f9cd52-d8e9-4f45-de72-bfd028ae7bee"
      },
      "execution_count": 10,
      "outputs": [
        {
          "output_type": "stream",
          "name": "stdout",
          "text": [
            "[1, 2, 4, 5]\n"
          ]
        }
      ]
    },
    {
      "cell_type": "code",
      "source": [
        "# 9.  Write a code to access the second element in the list ['a', 'b', 'c', 'd']?\n",
        "#Answers:\n",
        "list= ['a', 'b', 'c', 'd']\n",
        "print(list[1])\n"
      ],
      "metadata": {
        "colab": {
          "base_uri": "https://localhost:8080/"
        },
        "id": "lSAI4_TW3Mfm",
        "outputId": "7fe4b7a1-9da9-4dc6-db6b-575c63487079"
      },
      "execution_count": 11,
      "outputs": [
        {
          "output_type": "stream",
          "name": "stdout",
          "text": [
            "b\n"
          ]
        }
      ]
    },
    {
      "cell_type": "code",
      "source": [
        "# 10. Write a code to reverse the list [10, 20, 30, 40, 50].\n",
        "# Answers:\n",
        "list = [10, 20, 30, 40, 50]\n",
        "list.reverse()\n",
        "print(list)"
      ],
      "metadata": {
        "colab": {
          "base_uri": "https://localhost:8080/"
        },
        "id": "0D1Es-cM3m_f",
        "outputId": "4ec4c836-b684-44cc-87e5-5685e3b34e01"
      },
      "execution_count": 16,
      "outputs": [
        {
          "output_type": "stream",
          "name": "stdout",
          "text": [
            "[50, 40, 30, 20, 10]\n"
          ]
        }
      ]
    },
    {
      "cell_type": "code",
      "source": [
        "# 11. Write a code to create a tuple with the elements 100, 200, 300 and print it.\n",
        "# Answers:\n",
        "tuple_elements = ( 100, 200, 300)\n",
        "print(tuple_elements)"
      ],
      "metadata": {
        "colab": {
          "base_uri": "https://localhost:8080/"
        },
        "id": "2DYZ59ps4Ex8",
        "outputId": "6fa929b5-f8ea-4d37-cf7e-b9936d109812"
      },
      "execution_count": 17,
      "outputs": [
        {
          "output_type": "stream",
          "name": "stdout",
          "text": [
            "(100, 200, 300)\n"
          ]
        }
      ]
    },
    {
      "cell_type": "code",
      "source": [
        "# 12. Write a code to access the second-to-last element of the tuple ('red', 'green', 'blue', 'yellow').\n",
        "# Answers:\n",
        "my_tuple = ('red', 'green', 'blue', 'yellow')\n",
        "second_to_last_element = my_tuple[-2]\n",
        "print(second_to_last_element)"
      ],
      "metadata": {
        "colab": {
          "base_uri": "https://localhost:8080/"
        },
        "id": "_vKA7Fhl5fJq",
        "outputId": "1f9ee881-db65-494b-fca2-b4546f306a05"
      },
      "execution_count": 20,
      "outputs": [
        {
          "output_type": "stream",
          "name": "stdout",
          "text": [
            "blue\n"
          ]
        }
      ]
    },
    {
      "cell_type": "code",
      "source": [
        "# 13.Write a code to find the minimum number in the tuple (10, 20, 5, 15).\n",
        "# Answers:\n",
        "my_tuple = ( 10, 20, 5, 15)\n",
        "mini_tuple = min(my_tuple)\n",
        "print(mini_tuple)"
      ],
      "metadata": {
        "colab": {
          "base_uri": "https://localhost:8080/"
        },
        "id": "WvLBcf3X6KPm",
        "outputId": "96aa2eb6-e7c4-44ea-fd6e-99cbcb71e7f1"
      },
      "execution_count": 21,
      "outputs": [
        {
          "output_type": "stream",
          "name": "stdout",
          "text": [
            "5\n"
          ]
        }
      ]
    },
    {
      "cell_type": "code",
      "source": [
        "#14.Write a code to find the index of the element \"cat\" in the tuple ('dog', 'cat', 'rabbit').\n",
        "# Answers:\n",
        "my_tuple = ('dog', 'cat', 'rabbit')\n",
        "my_tuple.index(\"cat\")"
      ],
      "metadata": {
        "colab": {
          "base_uri": "https://localhost:8080/"
        },
        "id": "VLpYOf4j690q",
        "outputId": "ad5aca0d-43d2-4df9-be0b-df8c57adfc7f"
      },
      "execution_count": 22,
      "outputs": [
        {
          "output_type": "execute_result",
          "data": {
            "text/plain": [
              "1"
            ]
          },
          "metadata": {},
          "execution_count": 22
        }
      ]
    },
    {
      "cell_type": "code",
      "source": [
        "# 15. Write a code to create a tuple containing three different fruits and check if \"kiwi\" is in it.\n",
        "# Answers:\n",
        "my_tuple = (\"apple\", \"orange\", \"mango\", \"kiwi\")\n",
        "\"kiwi\" in my_tuple\n"
      ],
      "metadata": {
        "colab": {
          "base_uri": "https://localhost:8080/"
        },
        "id": "C2lxajoj7Tyg",
        "outputId": "016474be-5a2c-487b-cc8d-2da1232b7f28"
      },
      "execution_count": 27,
      "outputs": [
        {
          "output_type": "execute_result",
          "data": {
            "text/plain": [
              "True"
            ]
          },
          "metadata": {},
          "execution_count": 27
        }
      ]
    },
    {
      "cell_type": "code",
      "source": [
        "# 16. Write a code to create a set with the elements 'a', 'b', 'c' and print it.\n",
        "# Answers:\n",
        "my_sets = {\"a\", \"b\", \"c\"}\n",
        "print(my_sets)"
      ],
      "metadata": {
        "colab": {
          "base_uri": "https://localhost:8080/"
        },
        "id": "cJ8XIqCW72eD",
        "outputId": "11381cdc-a8f7-4f81-ee7d-7d9cfaad70ef"
      },
      "execution_count": 28,
      "outputs": [
        {
          "output_type": "stream",
          "name": "stdout",
          "text": [
            "{'a', 'c', 'b'}\n"
          ]
        }
      ]
    },
    {
      "cell_type": "code",
      "source": [
        "# 17. Write a code to clear all elements from the set {1, 2, 3, 4, 5}.\n",
        "# Answers:\n",
        "my_sets = {1, 2, 3, 4, 5}\n",
        "my_sets.clear()\n",
        "print(my_sets)"
      ],
      "metadata": {
        "colab": {
          "base_uri": "https://localhost:8080/"
        },
        "id": "kXYl2UAt8haJ",
        "outputId": "e1f8c41c-3af9-4d0b-f7b4-b2bfcb961b63"
      },
      "execution_count": 30,
      "outputs": [
        {
          "output_type": "stream",
          "name": "stdout",
          "text": [
            "set()\n"
          ]
        }
      ]
    },
    {
      "cell_type": "code",
      "source": [
        "# 18. Write a code to remove the element 4 from the set {1, 2, 3, 4}.\n",
        "# Answers:\n",
        "my_sets = {1, 2, 3, 4}\n",
        "my_sets.remove(4)\n",
        "print(my_sets)"
      ],
      "metadata": {
        "colab": {
          "base_uri": "https://localhost:8080/"
        },
        "id": "6sfNiUfK80OB",
        "outputId": "f09570b4-dfe3-47a6-b9ab-643d9ccea925"
      },
      "execution_count": 31,
      "outputs": [
        {
          "output_type": "stream",
          "name": "stdout",
          "text": [
            "{1, 2, 3}\n"
          ]
        }
      ]
    },
    {
      "cell_type": "code",
      "source": [
        "\n",
        "# 19. Write a code to find the union of two sets {1, 2, 3} and {3, 4, 5}.\n",
        "# Answers:\n",
        "set1 = {1, 2, 3}\n",
        "set2 = {3, 4, 5}\n",
        "Union = set1.union(set2)\n",
        "print(Union)"
      ],
      "metadata": {
        "colab": {
          "base_uri": "https://localhost:8080/"
        },
        "id": "mltSiu0s9PsJ",
        "outputId": "98f3a1d3-deb7-45f6-98a6-71b5595cfd9d"
      },
      "execution_count": 32,
      "outputs": [
        {
          "output_type": "stream",
          "name": "stdout",
          "text": [
            "{1, 2, 3, 4, 5}\n"
          ]
        }
      ]
    },
    {
      "cell_type": "code",
      "source": [
        "# 20. Write a code to find the intersection of two sets {1, 2, 3} and {2, 3, 4}.\n",
        "# Answers:\n",
        "set1 = {1, 2, 3}\n",
        "set2 = {2, 3, 4}\n",
        "intersection = set1.intersection(set2)\n",
        "print(intersection)"
      ],
      "metadata": {
        "colab": {
          "base_uri": "https://localhost:8080/"
        },
        "id": "GVVnfwVQ-HFC",
        "outputId": "aca24b8f-d649-42ff-c3cf-7485613834ff"
      },
      "execution_count": 33,
      "outputs": [
        {
          "output_type": "stream",
          "name": "stdout",
          "text": [
            "{2, 3}\n"
          ]
        }
      ]
    },
    {
      "cell_type": "code",
      "source": [
        "# 21. Write a code to create a dictionary with the keys \"name\", \"age\", and \"city\", and print it.\n",
        "# Answers:\n",
        "my_dic = {\"name\", \"age\", \"city\"}\n",
        "print(my_dic)"
      ],
      "metadata": {
        "colab": {
          "base_uri": "https://localhost:8080/"
        },
        "id": "W5MF6usB-RWU",
        "outputId": "e148a218-8a96-498f-b821-622245fa3193"
      },
      "execution_count": 35,
      "outputs": [
        {
          "output_type": "stream",
          "name": "stdout",
          "text": [
            "{'name', 'age', 'city'}\n"
          ]
        }
      ]
    },
    {
      "cell_type": "code",
      "source": [
        "# 22. Write a code to add a new key-value pair \"country\": \"USA\" to the dictionary {'name': 'John', 'age': 25}.\n",
        "# Answers:\n",
        "person = {'name': 'John', 'age': 25}\n",
        "\n",
        "# Add a new key-value pair\n",
        "person['country'] = 'USA'\n",
        "\n",
        "# Print the updated dictionary\n",
        "print(\"Updated dictionary:\", person)\n"
      ],
      "metadata": {
        "colab": {
          "base_uri": "https://localhost:8080/"
        },
        "id": "Ta6lewvL-i_t",
        "outputId": "51011e38-180a-424d-c0d0-eee55b39ff89"
      },
      "execution_count": 36,
      "outputs": [
        {
          "output_type": "stream",
          "name": "stdout",
          "text": [
            "Updated dictionary: {'name': 'John', 'age': 25, 'country': 'USA'}\n"
          ]
        }
      ]
    },
    {
      "cell_type": "code",
      "source": [
        "# 23. Write a code to access the value associated with the key \"name\" in the dictionary {'name': 'Alice', 'age': 30}.\n",
        "# ANswers:\n",
        "person = {'name': 'Alice', 'age': 30}\n",
        "\n",
        "# Access the value for the key \"name\"\n",
        "name_value = person['name']\n",
        "\n",
        "# Print the value\n",
        "print(\"Name:\", name_value)\n"
      ],
      "metadata": {
        "colab": {
          "base_uri": "https://localhost:8080/"
        },
        "id": "uUonmbWN_FCA",
        "outputId": "126a4312-80f2-44b3-a110-d6c759d61269"
      },
      "execution_count": 37,
      "outputs": [
        {
          "output_type": "stream",
          "name": "stdout",
          "text": [
            "Name: Alice\n"
          ]
        }
      ]
    },
    {
      "cell_type": "code",
      "source": [
        "# 24. Write a code to remove the key \"age\" from the dictionary {'name': 'Bob', 'age': 22, 'city': 'New York'}.\n",
        "# Answers: # Define the dictionary\n",
        "person = {'name': 'Bob', 'age': 22, 'city': 'New York'}\n",
        "\n",
        "# Remove the key \"age\"\n",
        "person.pop('age')\n",
        "\n",
        "# Print the updated dictionary\n",
        "print(\"Updated dictionary:\", person)\n"
      ],
      "metadata": {
        "colab": {
          "base_uri": "https://localhost:8080/"
        },
        "id": "ZLen1ut7_cSK",
        "outputId": "35f46dd4-4d13-4be9-b9b4-d4b83fb841c4"
      },
      "execution_count": 38,
      "outputs": [
        {
          "output_type": "stream",
          "name": "stdout",
          "text": [
            "Updated dictionary: {'name': 'Bob', 'city': 'New York'}\n"
          ]
        }
      ]
    },
    {
      "cell_type": "code",
      "source": [
        "# 25.  Write a code to check if the key \"city\" exists in the dictionary {'name': 'Alice', 'city': 'Paris'}.\n",
        "# Answers:\n",
        "dic = {'name': 'Alice', 'city': 'Paris'}\n",
        "\"city\" in dic"
      ],
      "metadata": {
        "colab": {
          "base_uri": "https://localhost:8080/"
        },
        "id": "jmh5iBH7Bol-",
        "outputId": "da514729-a2fc-4979-8a6a-8b47aad4cacc"
      },
      "execution_count": 40,
      "outputs": [
        {
          "output_type": "execute_result",
          "data": {
            "text/plain": [
              "True"
            ]
          },
          "metadata": {},
          "execution_count": 40
        }
      ]
    },
    {
      "cell_type": "code",
      "source": [
        "# 26. Write a code to create a list, a tuple, and a dictionary, and print them all.\n",
        "# Answers:\n",
        "my_list = [\"Apple\", \"orange\", \"parveen\", 1, 2.2, 3+5j]\n",
        "my_tuple =  (10, 20, 5, 15, 'dog', 'cat', 'rabbit')\n",
        "my_dic = {'name': 'Bob', 'age': 22, 'city': 'New York'}\n",
        "print(\"List:\", my_list)\n",
        "print(\"Tuple:\", my_tuple)\n",
        "print(\"Dictionary:\", my_dic)\n"
      ],
      "metadata": {
        "colab": {
          "base_uri": "https://localhost:8080/"
        },
        "id": "KkOknE1eB9t-",
        "outputId": "360db2e5-cc53-49a4-8f0d-0ed209239b56"
      },
      "execution_count": 42,
      "outputs": [
        {
          "output_type": "stream",
          "name": "stdout",
          "text": [
            "List: ['Apple', 'orange', 'parveen', 1, 2.2, (3+5j)]\n",
            "Tuple: (10, 20, 5, 15, 'dog', 'cat', 'rabbit')\n",
            "Dictionary: {'name': 'Bob', 'age': 22, 'city': 'New York'}\n"
          ]
        }
      ]
    },
    {
      "cell_type": "code",
      "source": [
        "# 27. Write a code to create a list of 5 random numbers between 1 and 100, sort it in ascending order, and print the result.\n",
        "# Answers:\n",
        "import random\n",
        "ran_num = [random.randint(1,100) for i in range (5)]\n",
        "print(ran_num) # unsorted\n",
        "ran_num.sort() # sorted the list in ascending order.\n",
        "print(ran_num)"
      ],
      "metadata": {
        "colab": {
          "base_uri": "https://localhost:8080/"
        },
        "id": "ZYJJrp2MC6Vf",
        "outputId": "3573c8cc-5409-445f-f212-62188fa84307"
      },
      "execution_count": 45,
      "outputs": [
        {
          "output_type": "stream",
          "name": "stdout",
          "text": [
            "[31, 56, 76, 12, 4]\n",
            "[4, 12, 31, 56, 76]\n"
          ]
        }
      ]
    },
    {
      "cell_type": "code",
      "source": [
        "# 28. Write a code to create a list with strings and print the element at the third index.\n",
        "# Answers:\n",
        "my_list = [\"apple\", \"banana\", \"cherry\", \"date\", \"elderberry\"]\n",
        "print(\"Element at index 3:\", my_list[3])\n"
      ],
      "metadata": {
        "colab": {
          "base_uri": "https://localhost:8080/"
        },
        "id": "JPh2xRFsGeKR",
        "outputId": "344d8774-ee6f-480a-c6df-975f40cd3b4f"
      },
      "execution_count": 46,
      "outputs": [
        {
          "output_type": "stream",
          "name": "stdout",
          "text": [
            "Element at index 3: date\n"
          ]
        }
      ]
    },
    {
      "cell_type": "code",
      "source": [
        "# 29. Write a code to combine two dictionaries into one and print the result.\n",
        "# Answers:\n",
        "dict1 =  {'name': 'Bob', 'age': 22}\n",
        "dict2 = {'city': 'Paris', 'country': 'France'}\n",
        "dict1.update(dict2)\n",
        "print(dict1)"
      ],
      "metadata": {
        "colab": {
          "base_uri": "https://localhost:8080/"
        },
        "id": "vI4tbEkQG-oP",
        "outputId": "99c2b3bc-c71b-4c9c-b5f3-a1d6a305d863"
      },
      "execution_count": 53,
      "outputs": [
        {
          "output_type": "stream",
          "name": "stdout",
          "text": [
            "{'name': 'Bob', 'age': 22, 'city': 'Paris', 'country': 'France'}\n"
          ]
        }
      ]
    },
    {
      "cell_type": "code",
      "source": [
        "# 30. Write a code to convert a list of strings into a set.\n",
        "# Answers:\n",
        "my_list = [\"apple\", \"banana\", \"cherry\", \"apple\", \"banana\"]\n",
        "my_set = set(my_list)\n",
        "print(my_set)"
      ],
      "metadata": {
        "colab": {
          "base_uri": "https://localhost:8080/"
        },
        "id": "WgKaY2QuHdfC",
        "outputId": "aa3a25bd-890f-447f-f6a8-9431d3fc075a"
      },
      "execution_count": 54,
      "outputs": [
        {
          "output_type": "stream",
          "name": "stdout",
          "text": [
            "{'banana', 'cherry', 'apple'}\n"
          ]
        }
      ]
    },
    {
      "cell_type": "markdown",
      "source": [
        "# **Data Types and Structures Questions Theoretical**"
      ],
      "metadata": {
        "id": "CP5s4S4HIDP3"
      }
    },
    {
      "cell_type": "code",
      "source": [
        "# 1. What are data structures, and why are they important?\n",
        "# ANswers: Data structures are special ways of organizing and storing data in a computer so that we can use it efficiently.\n",
        "# They are importamnt because:\n",
        "# 1. Organize data neatly\n",
        "# 2. Make your code faster and more efficient (Searching in a set is faster than in a list.)\n",
        "# 3. Solve different types of problems Some problems need ordered data (use lists), some need quick lookup (use dictionaries), etc."
      ],
      "metadata": {
        "id": "EgJgQeCJIB-c"
      },
      "execution_count": 55,
      "outputs": []
    },
    {
      "cell_type": "code",
      "source": [
        "# 2. Explain the difference between mutable and immutable data types with examples?\n",
        "# Answers:\n",
        "#  1. Mutable Data Types\n",
        "# You can change them after you create them. Examples: list, dict, set.\n",
        "# 2.  2. Immutable Data Types\n",
        "# You cannot change them once they’re created. Examples: int, float, str, tuple\n"
      ],
      "metadata": {
        "id": "ODFbo-k8Id1_"
      },
      "execution_count": null,
      "outputs": []
    },
    {
      "cell_type": "code",
      "source": [
        "# 3. What are the main differences between lists and tuples in Python?\n",
        "# Answers: In Python 3, lists and tuples are both used to store collections of items, but they differ mainly in terms of mutability and performance.\n",
        "# Lists are mutable, which means their elements can be changed, added, or removed after the list is created.\n",
        "# Tuples, on the other hand, are immutable, meaning that once a tuple is created, its contents cannot be altered.\n",
        "# This immutability makes tuples slightly faster and more memory-efficient than lists, especially when working with large data sets or when using them as dictionary keys, where immutability is a requirement.\n",
        "\n",
        "#  lists use square brackets [], such as my_list = [1, 2, 3], while tuples use parentheses (), like my_tuple = (1, 2, 3).\n",
        "# Lists offer a wider range of built-in methods, such as append(), extend(), pop(), and remove(), which allow for more flexible data manipulation.\n",
        "# Tuples only provide a few methods like count() and index() due to their fixed nature.\n"
      ],
      "metadata": {
        "id": "Lmbx9HfiJzq-"
      },
      "execution_count": 56,
      "outputs": []
    },
    {
      "cell_type": "code",
      "source": [
        "# 4. Describe how dictionaries store data?\n",
        "# Answers:\n",
        "# Dictionaries in Python store data as key-value pairs, where each unique key maps to a specific value.\n",
        "#  Internally, they use a hash table to quickly access values based on keys. This allows for fast lookups, updates, and insertions.\n",
        "#  Keys must be immutable (like strings, numbers, or tuples), while values can be of any data type.\n",
        "# Dictionaries are unordered until Python 3.6, but from Python 3.7 onwards, they maintain the insertion order of keys.\n"
      ],
      "metadata": {
        "id": "SwxKujuaJ0GY"
      },
      "execution_count": null,
      "outputs": []
    },
    {
      "cell_type": "code",
      "source": [
        "# 5. Why might you use a set instead of a list in Python?\n",
        "# You might use a set instead of a list in Python when you need to store unique items and don't care about the order.\n",
        "# Sets automatically remove duplicates and offer faster membership testing (in checks) compared to lists.\n",
        "# This makes sets ideal for tasks like finding unique values, eliminating duplicates, or performing set operations like union, intersection, and difference.\n",
        "# However, unlike lists, sets are unordered and don’t support indexing or slicing."
      ],
      "metadata": {
        "id": "iFu0rYztJ0Yx"
      },
      "execution_count": null,
      "outputs": []
    },
    {
      "cell_type": "code",
      "source": [
        "# 6. What is a string in Python, and how is it different from a list?\n",
        "# Answers:\n",
        "\n",
        "# In Python, a string is a sequence of characters enclosed in single (' ') or double (\" \") quotes, like \"hello\".\n",
        "# It is immutable, meaning its contents cannot be changed after creation.\n",
        "# A list, on the other hand, is a sequence of items (which can be of any data type) enclosed in square brackets, like [1, \"apple\", 3.5], and is mutable, so its elements can be modified.\n",
        "\n",
        "# While both strings and lists are sequences and support indexing and slicing, strings are specifically for text data,\n",
        "# and you can't change individual characters in a string without creating a new one.\n",
        "#  Lists are more flexible and are used for storing and manipulating collections of items."
      ],
      "metadata": {
        "id": "zPCYjThxJ0kN"
      },
      "execution_count": null,
      "outputs": []
    },
    {
      "cell_type": "code",
      "source": [
        "# 7. How do tuples ensure data integrity in Python?\n",
        "# # Answers:\n",
        "# Tuples ensure data integrity in Python by being immutable, meaning their contents cannot be changed after creation.\n",
        "# Once a tuple is defined, elements cannot be added, removed, or modified.\n",
        "# This immutability protects the data from accidental changes, making tuples a reliable choice for storing constant or fixed information, such as coordinates, configurations, or values that should remain unchanged throughout a program.\n",
        "# Their hashable nature also allows them to be used as keys in dictionaries, further supporting secure and stable data structures."
      ],
      "metadata": {
        "id": "94ABVOhYJ0rE"
      },
      "execution_count": 57,
      "outputs": []
    },
    {
      "cell_type": "code",
      "source": [
        " # 8. What is a hash table, and how does it relate to dictionaries in Python?\n",
        "#  # Answers:\n",
        "#  A hash table is a data structure that stores data in an associative manner, using key-value pairs.\n",
        "#  It works by applying a hash function to a key to compute an index, where the corresponding value is stored in memory.\n",
        "#  This allows for very fast data access, typically in constant time, O(1).\n",
        "\n",
        "# In Python, dictionaries are implemented using hash tables.\n",
        "#  When you add a key-value pair to a dictionary, Python hashes the key to determine where to store the value.\n",
        "#  When you access a value using its key, Python uses the hash to find the value quickly.\n",
        "# This makes dictionaries extremely efficient for lookups, insertions, and deletions, especially when dealing with large datasets."
      ],
      "metadata": {
        "id": "foZJ61C-J0wx"
      },
      "execution_count": null,
      "outputs": []
    },
    {
      "cell_type": "code",
      "source": [
        "# 9. Can lists contain different data types in Python?\n",
        "# Answers: Yes, lists in Python can contain different data types. A single list can hold a mix of integers, floats, strings, booleans, other lists, or even custom objects. For example, a list like [42, \"hello\", 3.14, True, [1, 2]] is perfectly valid.\n",
        "# This flexibility makes lists powerful and convenient for handling diverse data in a single collection."
      ],
      "metadata": {
        "id": "JbCDGiPTJ01c"
      },
      "execution_count": null,
      "outputs": []
    },
    {
      "cell_type": "code",
      "source": [
        "# 10. Explain why strings are immutable in Python?\n",
        "# Answers: Strings are immutable in Python to ensure data consistency, security, and performance.\n",
        "# When a string is created, its value cannot be changed—any operation that modifies a string actually creates a new string object.\n",
        "# This immutability makes strings hashable, allowing them to be used as keys in dictionaries. It also improves memory efficiency and thread safety, since the string's value remains constant across different parts of a program.\n",
        "# This design choice simplifies code behavior and prevents unexpected side effects caused by accidental modifications.\n",
        "\n",
        "\n",
        "\n",
        "# greeting = \"Hello\"\n",
        "\n",
        "# # Try to change the first character\n",
        "# # greeting[0] = \"Y\"\n",
        "\n",
        "# # Instead, we create a new string\n",
        "# new_greeting = \"Y\" + greeting[1:]\n",
        "\n",
        "# print(greeting)       # Output: Hello (unchanged)\n",
        "# print(new_greeting)   # Output: Yello (new string)\n"
      ],
      "metadata": {
        "id": "dUWKH1-DJ042"
      },
      "execution_count": null,
      "outputs": []
    },
    {
      "cell_type": "code",
      "source": [
        "# 11.  What advantages do dictionaries offer over lists for certain tasks?\n",
        "# # Answers:\n",
        "# Dictionaries offer several advantages over lists for certain tasks, especially when working with key-value relationships.\n",
        "# Unlike lists, which store data in a sequential order and use integer indices, dictionaries allow you to associate meaningful keys with values, making data more readable and easier to access.\n",
        "# This provides faster lookups (O(1) on average) when accessing data by key, compared to searching through a list, which takes O(n) time.\n",
        "\n",
        "# Dictionaries also make it easier to organize and manage structured data, such as user profiles ({\"name\": \"Alice\", \"age\": 25}) or configuration settings.\n",
        "# They're ideal when you need to search, update, or delete values based on custom identifiers rather than positions."
      ],
      "metadata": {
        "id": "c0MZh2ffJ074"
      },
      "execution_count": null,
      "outputs": []
    },
    {
      "cell_type": "code",
      "source": [
        "# 12. Describe a scenario where using a tuple would be preferable over a list?\n",
        "# # Answers:\n",
        "# A tuple would be preferable over a list when you need to store a **fixed set of values** that should not change throughout the program.\n",
        "# For example, if you're working with **geographic coordinates** like latitude and longitude—`(34.0522, -118.2437)`\n",
        "# —a tuple is ideal because the values represent a constant point and shouldn't be modified. Using a tuple in this case ensures **data integrity**, improves **performance**, and allows the data to be used as a **dictionary key** or in a **set**, which requires immutability."
      ],
      "metadata": {
        "id": "4bd66XF6J0-8"
      },
      "execution_count": null,
      "outputs": []
    },
    {
      "cell_type": "code",
      "source": [
        "# 13. How do sets handle duplicate values in Python?\n",
        "# # Answers:\n",
        "# In Python, sets automatically eliminate duplicate values. When you create a set, any repeated elements are removed, and only unique values are stored.\n",
        "# This is because sets are designed to represent unordered collections of distinct items.\n",
        "\n",
        "# my_set = {1, 2, 2, 3, 4, 4, 4}\n",
        "# print(my_set)\n",
        "\n",
        "# {1, 2, 3, 4}"
      ],
      "metadata": {
        "id": "VpAX6LG0J1BN"
      },
      "execution_count": null,
      "outputs": []
    },
    {
      "cell_type": "code",
      "source": [
        "# 14.  How does the “in” keyword work differently for lists and dictionaries?\n",
        "# Answers: The in keyword is used to check for membership, but it behaves differently for lists and dictionaries in Python:\n",
        "\n",
        "# For lists, in checks if a value exists in the list.\n",
        "# fruits = [\"apple\", \"banana\", \"cherry\"]\n",
        "# print(\"banana\" in fruits)  # True – checks for value\n",
        "\n",
        "# For dictionaries, in checks if a key exists, not the value.\n",
        "# person = {\"name\": \"Alice\", \"age\": 30}\n",
        "# print(\"name\" in person)     #  True – key exists\n",
        "# print(\"Alice\" in person)    #  False – \"Alice\" is a value, not a key\n",
        "\n"
      ],
      "metadata": {
        "id": "ldLzWYAlJ1Dw"
      },
      "execution_count": null,
      "outputs": []
    },
    {
      "cell_type": "markdown",
      "source": [
        "# 15. Can you modify the elements of a tuple? Explain why or why not?\n",
        "# Answers: No, you cannot modify the elements of a tuple in Python because tuples are immutable.\n",
        "# This means that once a tuple is created, its contents cannot be changed, added to, or removed.\n",
        "# Immutability ensures data integrity, allows tuples to be hashable (so they can be used as dictionary keys or set elements), and improves performance and memory efficiency.\n",
        "# my_tuple = (1, 2, 3)\n",
        "# my_tuple[0] = 10  # This will raise: TypeError: 'tuple' object does not support item assignment\n"
      ],
      "metadata": {
        "id": "-NPlGybSJ1Gh"
      }
    },
    {
      "cell_type": "code",
      "source": [
        "# 16. What is a nested dictionary, and give an example of its use case?\n",
        "# Answers: A nested dictionary in Python is a dictionary where values themselves are dictionaries.\n",
        "# This structure is useful for representing hierarchical or structured data, such as a collection of items with multiple attributes.\n",
        "# students = {\n",
        "#     \"101\": {\"name\": \"Alice\", \"age\": 20, \"grade\": \"A\"},\n",
        "#     \"102\": {\"name\": \"Bob\", \"age\": 22, \"grade\": \"B\"},}\n",
        "\n",
        "# Nested dictionaries are commonly used in database-like structures, JSON data, or applications like a student management system,\n",
        "# where each entity (like a student or product) has multiple related attributes grouped together for easy access and organization.\n"
      ],
      "metadata": {
        "id": "MaOetaYTOgK2"
      },
      "execution_count": null,
      "outputs": []
    },
    {
      "cell_type": "code",
      "source": [
        "# 17. Describe the time complexity of accessing elements in a dictionary?\n",
        "# Answers:\n",
        "\n",
        "# Accessing elements in a dictionary in Python has an average **time complexity of O(1)**, which means it takes **constant time**, regardless of the size of the dictionary.\n",
        "#  This efficiency is possible because dictionaries use a **hash table** internally, allowing Python to compute the location of a key directly using a hash function.\n",
        "\n",
        "# However, in **rare worst-case scenarios** (like many hash collisions), the time complexity can degrade to **O(n)**.\n",
        "#  But Python handles collisions well with techniques like **open addressing**, so dictionary access remains fast and efficient in most real-world cases.\n"
      ],
      "metadata": {
        "id": "z6OOGs4AOhDN"
      },
      "execution_count": null,
      "outputs": []
    },
    {
      "cell_type": "code",
      "source": [
        "# 18. In what situations are lists preferred over dictionaries?\n",
        "\n",
        "# Answers:\n",
        "\n",
        "\n",
        "# 1. **Order matters** – Lists maintain the order of elements and support indexing, which is useful when the position of items is important.\n",
        "# 2. **Sequential data** – When storing simple sequences like numbers, names, or tasks, where each item doesn't need a label.\n",
        "# 3. **No unique identifiers** – If data doesn't require key-value pairs and can be identified by position instead.\n",
        "# 4. **Iteration in order** – When you need to loop through items in the exact order they were added.\n",
        "\n",
        "#  Example:\n",
        "# shopping_list = [\"milk\", \"bread\", \"eggs\"]\n",
        "\n"
      ],
      "metadata": {
        "id": "LET3AegJOg0w"
      },
      "execution_count": null,
      "outputs": []
    },
    {
      "cell_type": "code",
      "source": [
        "# 19.  Why are dictionaries considered unordered, and how does that affect data retrieval?\n",
        "\n",
        "# Answers:\n",
        "\n",
        "# Dictionaries were traditionally considered **unordered** in Python because they didn't preserve the insertion order of items before Python 3.7.\n",
        "# This meant that when you iterated over a dictionary, items could appear in a random order.\n",
        "\n",
        "# However, starting from **Python 3.7**, dictionaries **do maintain insertion order**, though this is now more of a language feature than an implementation detail.\n",
        "\n",
        "# Despite this, dictionaries are still primarily designed for **fast key-based access**, not for positional retrieval.\n",
        "# You can't access items by index like you can in a list. Instead, you retrieve data using keys, which allows for **efficient lookups (O(1) time complexity)**,\n",
        "# but not ordered or sequential access like lists provide.\n"
      ],
      "metadata": {
        "id": "AzP1HYMUOgq3"
      },
      "execution_count": null,
      "outputs": []
    },
    {
      "cell_type": "code",
      "source": [
        "# 20. Explain the difference between a list and a dictionary in terms of data retrieval.\n",
        "\n",
        "# Answers:\n",
        "\n",
        "# - In a **list**, data is retrieved using **integer indices** (positions).\n",
        "# For example, `my_list[0]` returns the first item. Lists are ideal when you need to access items in a **specific order** or by **position**.\n",
        "\n",
        "# - In a **dictionary**, data is retrieved using **keys** (which can be strings, numbers, etc.).\n",
        "# For example, `my_dict[\"name\"]` returns the value associated with the key `\"name\"`.\n",
        "# Dictionaries allow for **faster and more meaningful lookups**, especially when dealing with labeled data.\n",
        "\n"
      ],
      "metadata": {
        "id": "xuAn4fYQOgfz"
      },
      "execution_count": null,
      "outputs": []
    }
  ]
}